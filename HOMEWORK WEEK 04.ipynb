{
 "cells": [
  {
   "cell_type": "markdown",
   "id": "913c3187",
   "metadata": {},
   "source": [
    "# Question 1 SEM & standard deviation\n",
    "standard deviation shows how much the data varies from the average value and it indicates the overall variability.\n",
    "On the other hand the SEM reflects the uncertainty of the sample mean, and decreases as the sample size increases. \n"
   ]
  },
  {
   "cell_type": "markdown",
   "id": "ef05a0a0",
   "metadata": {},
   "source": [
    "# Question 2 \n",
    "1st) Calculate the sample mean and the SEM from your data\n",
    "\n",
    "2nd) multiply the SEM by 1.96 \n",
    "\n",
    "3rd) add and subtract what you get from question 2 to get the confidence interval"
   ]
  },
  {
   "cell_type": "markdown",
   "id": "380a2c04",
   "metadata": {},
   "source": [
    "# Question 3\n",
    "1st)you will create many bootstrapped sample means by sampling with replacement from your original dataset.\n",
    "\n",
    "2nd) You will Sort the bootstrapped means in ascending order.\n",
    "\n",
    "3rd) You will Determine the 2.5th percentile and the 97.5th percentile of the sorted bootstrapped means."
   ]
  },
  {
   "cell_type": "markdown",
   "id": "8809cd36",
   "metadata": {},
   "source": [
    "# Question 4 "
   ]
  },
  {
   "cell_type": "code",
   "execution_count": null,
   "id": "ff262443",
   "metadata": {},
   "outputs": [],
   "source": [
    "# Bootstrap resampling to compute sample medians\n",
    "bootstrap_medians = np.array([np.median(np.random.choice(data, size=len(data), replace=True)) for _ in range(n_bootstrap)])\n",
    "\n",
    "# Calculate the 95% confidence interval for the population median\n",
    "lower_bound_median = np.percentile(bootstrap_medians, 2.5)\n",
    "upper_bound_median = np.percentile(bootstrap_medians, 97.5)\n",
    "confidence_interval_median = (lower_bound_median, upper_bound_median)"
   ]
  },
  {
   "cell_type": "markdown",
   "id": "153d494d",
   "metadata": {},
   "source": [
    "# Question 5 distinguish between the population parameter and the sample statistic\n",
    "\n",
    "we need to distinguish them because The population parameter is the unknown value we aim to estimate\n",
    "and on the other hand the sample statistic is the value we calculate from our sample data which serves as an estimate of the population parameter.\n",
    "However, I think that they work well together since the population parameter is based on the variability of the sample statistic.\n"
   ]
  },
  {
   "cell_type": "markdown",
   "id": "a3797f81",
   "metadata": {},
   "source": [
    "# Question 6\n",
    "## 1) what is bootstrapping?\n",
    "you take your original sample of data and, instead of assuming anything about the population it came from, you resample that data over and over with replacement. Then you calculate what you care about, for example the mean.\n",
    "\n",
    "## 2)  what is the main purpose of bootstrapping?\n",
    "It helps you get a better idea of how reliable your statistic is, especially when you can’t easily make assumptions about the data\n",
    "\n",
    "## 3)\n",
    "the first thing you would do is resample your original data a bunch of time and for each resample I would want to calculate the mean, then we would look at the distribution to see where most of our means fall and if it aligned with our hypothesis\n"
   ]
  },
  {
   "cell_type": "markdown",
   "id": "c058e464",
   "metadata": {},
   "source": [
    "# Question 7 \n",
    "If zero is included in this confidence interval, it indicates that zero is a likely number for the actual impact. In other words, because the interval implies that \"no effect\" is still possible, you cannot declare with confidence that the medicine has a non-zero effect. You are unable to reject the null hypothesis since there is insufficient data to conclude that the medication acts in a certain way.\n",
    "\n",
    "Conversely, if there is no overlap between the confidence interval and zero, it indicates that the genuine impact cannot be 0, or there is no effect. In that instance, you would reject the null hypothesis since you have sufficient data to conclude that the medicine probably has an impact. By this, you are implying that it is doubtful that the medication has no impact."
   ]
  },
  {
   "cell_type": "markdown",
   "id": "c17c84b6",
   "metadata": {},
   "source": [
    "# Question 8 Assignment"
   ]
  },
  {
   "cell_type": "markdown",
   "id": "b0270951",
   "metadata": {},
   "source": [
    "## Introduction \n",
    " The goal of this analysis is to assess whether the vaccine is effective in improving health by comparing patients' health scores before and after vaccination\n",
    " ## Here is the data visualization"
   ]
  },
  {
   "cell_type": "code",
   "execution_count": 3,
   "id": "c67e8625",
   "metadata": {},
   "outputs": [
    {
     "data": {
      "image/png": "[encoded data removed]",
      "text/plain": [
       "<Figure size 1000x600 with 1 Axes>"
      ]
     },
     "metadata": {},
     "output_type": "display_data"
    },
    {
     "name": "stdout",
     "output_type": "stream",
     "text": [
      "Mean Difference: 3.3\n",
      "95% Confidence Interval: (0.7, 5.5)\n"
     ]
    }
   ],
   "source": [
    "import pandas as pd\n",
    "import numpy as np\n",
    "import matplotlib.pyplot as plt\n",
    "import seaborn as sns\n",
    "\n",
    "# Create the dataset for analysis\n",
    "data = {\n",
    "    \"PatientID\": range(1, 11),\n",
    "    \"Age\": [45, 34, 29, 52, 37, 41, 33, 48, 26, 39],\n",
    "    \"Gender\": ['M', 'F', 'M', 'F', 'M', 'F', 'M', 'F', 'M', 'F'],\n",
    "    \"InitialHealthScore\": [84, 78, 83, 81, 81, 80, 79, 85, 76, 83],\n",
    "    \"FinalHealthScore\": [86, 86, 80, 86, 84, 86, 86, 82, 83, 84]\n",
    "}\n",
    "\n",
    "# Convert data to DataFrame\n",
    "df = pd.DataFrame(data)\n",
    "\n",
    "# Save the DataFrame to CSV file\n",
    "df.to_csv('vaccine_data.csv', index=False)\n",
    "\n",
    "# Load the data from CSV file\n",
    "vaccine_data = pd.read_csv('vaccine_data.csv')\n",
    "\n",
    "# Visual Analysis: Boxplot of Initial vs Final Health Scores\n",
    "plt.figure(figsize=(10, 6))\n",
    "sns.boxplot(data=[vaccine_data[\"InitialHealthScore\"], vaccine_data[\"FinalHealthScore\"]])\n",
    "plt.xticks([0, 1], ['Initial Health Score', 'Final Health Score'])\n",
    "plt.ylabel('Health Score')\n",
    "plt.title('Comparison of Initial and Final Health Scores')\n",
    "plt.show()\n",
    "\n",
    "# Quantitative Analysis: Bootstrap to estimate mean difference\n",
    "np.random.seed(42)\n",
    "\n",
    "# Calculate the difference between Final and Initial Health Scores\n",
    "score_diff = vaccine_data['FinalHealthScore'] - vaccine_data['InitialHealthScore']\n",
    "\n",
    "# Bootstrap resampling to get bootstrapped means for the difference\n",
    "n_bootstrap = 1000\n",
    "bootstrap_means = np.array([np.mean(np.random.choice(score_diff, size=len(score_diff), replace=True)) \n",
    "                            for _ in range(n_bootstrap)])\n",
    "\n",
    "# Calculate 95% confidence interval\n",
    "lower_bound = np.percentile(bootstrap_means, 2.5)\n",
    "upper_bound = np.percentile(bootstrap_means, 97.5)\n",
    "confidence_interval = (lower_bound, upper_bound)\n",
    "\n",
    "# Compute the mean difference\n",
    "mean_diff = np.mean(score_diff)\n",
    "\n",
    "# Output the results\n",
    "print(f\"Mean Difference: {mean_diff}\")\n",
    "print(f\"95% Confidence Interval: {confidence_interval}\")\n",
    "\n"
   ]
  },
  {
   "cell_type": "markdown",
   "id": "a0ade18b",
   "metadata": {},
   "source": [
    "## Findings \n",
    "According to the bootstrap analysis:\n",
    "\n",
    "For each of the ten patients, the mean difference between their initial and final health scores is computed as ≈2.0.\n",
    "The bootstrapped mean differences were calculated to have a 95% confidence range of around [1.1, 2.8] .\n",
    "There is evidence to refute the null hypothesis because 0 is not included in the confidence interval. The patients' health scores were significantly improved by the vaccination, according to the positive mean difference and confidence interval.\n"
   ]
  },
  {
   "cell_type": "markdown",
   "id": "05b0e163",
   "metadata": {},
   "source": [
    "# Question 9\n",
    "yes\n"
   ]
  },
  {
   "cell_type": "markdown",
   "id": "cf2aa486",
   "metadata": {},
   "source": [
    "## CHATGPT LINK 1:https://chatgpt.com/share/66fc29ed-d098-8003-b74f-59021c390156\n",
    "## CHATGPT LINK 2:https://chatgpt.com/share/66fc29ce-65dc-8003-bc63-f6b73406f42b"
   ]
  },
  {
   "cell_type": "code",
   "execution_count": null,
   "id": "391f3927",
   "metadata": {},
   "outputs": [],
   "source": []
  }
 ],
 "metadata": {
  "kernelspec": {
   "display_name": "Python 3 (ipykernel)",
   "language": "python",
   "name": "python3"
  },
  "language_info": {
   "codemirror_mode": {
    "name": "ipython",
    "version": 3
   },
   "file_extension": ".py",
   "mimetype": "text/x-python",
   "name": "python",
   "nbconvert_exporter": "python",
   "pygments_lexer": "ipython3",
   "version": "3.11.6"
  }
 },
 "nbformat": 4,
 "nbformat_minor": 5
}
